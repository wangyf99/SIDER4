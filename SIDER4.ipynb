{
 "cells": [
  {
   "cell_type": "markdown",
   "metadata": {},
   "source": [
    "# Analyzing the SIDER 4.1 data\n",
    "\n",
    "+ http://sideeffects.embl.de/\n",
    "+ http://thinklab.com/d/30#4"
   ]
  },
  {
   "cell_type": "code",
   "execution_count": 1,
   "metadata": {},
   "outputs": [],
   "source": [
    "import csv\n",
    "import gzip\n",
    "import collections"
   ]
  },
  {
   "cell_type": "code",
   "execution_count": 4,
   "metadata": {},
   "outputs": [],
   "source": [
    "import pandas\n",
    "import requests"
   ]
  },
  {
   "cell_type": "code",
   "execution_count": 5,
   "metadata": {},
   "outputs": [
    {
     "name": "stdout",
     "output_type": "stream",
     "text": [
      "Downloaded: README\n",
      "Downloaded: meddra_all_indications.tsv.gz\n",
      "Downloaded: meddra_all_se.tsv.gz\n",
      "Downloaded: meddra_freq.tsv.gz\n",
      "Renamed README to README.txt\n"
     ]
    }
   ],
   "source": [
    "import os\n",
    "import requests\n",
    "\n",
    "# Define base URL and filenames\n",
    "base_url = 'http://sideeffects.embl.de/media/download/'\n",
    "filenames = [\n",
    "    'README',\n",
    "    'meddra_all_indications.tsv.gz',\n",
    "    'meddra_all_se.tsv.gz',\n",
    "    'meddra_freq.tsv.gz',\n",
    "]\n",
    "\n",
    "# Create download directory if it doesn't exist\n",
    "download_dir = 'download'\n",
    "os.makedirs(download_dir, exist_ok=True)\n",
    "\n",
    "# Download each file\n",
    "for filename in filenames:\n",
    "    url = f\"{base_url}{filename}\"\n",
    "    response = requests.get(url, stream=True)\n",
    "    if response.status_code == 200:\n",
    "        file_path = os.path.join(download_dir, filename)\n",
    "        with open(file_path, 'wb') as file:\n",
    "            for chunk in response.iter_content(chunk_size=8192):\n",
    "                file.write(chunk)\n",
    "        print(f\"Downloaded: {filename}\")\n",
    "    else:\n",
    "        print(f\"Failed to download: {filename}\")\n",
    "\n",
    "# Rename README file\n",
    "readme_path = os.path.join(download_dir, 'README')\n",
    "if os.path.exists(readme_path):\n",
    "    os.rename(readme_path, os.path.join(download_dir, 'README.txt'))\n",
    "    print(\"Renamed README to README.txt\")\n",
    "else:\n",
    "    print(\"README file not found\")\n"
   ]
  },
  {
   "cell_type": "code",
   "execution_count": 3,
   "metadata": {
    "collapsed": false,
    "jupyter": {
     "outputs_hidden": false
    }
   },
   "outputs": [
    {
     "name": "stdout",
     "output_type": "stream",
     "text": [
      "zsh:1: command not found: wget\n",
      "zsh:1: command not found: wget\n",
      "zsh:1: command not found: wget\n",
      "zsh:1: command not found: wget\n",
      "mv: download/README: No such file or directory\n"
     ]
    }
   ],
   "source": [
    "# Download SIDER data\n",
    "base_url = 'http://sideeffects.embl.de/media/download/'\n",
    "filenames = [\n",
    "    'README',\n",
    "    'meddra_all_indications.tsv.gz',\n",
    "    'meddra_all_se.tsv.gz',\n",
    "    'meddra_freq.tsv.gz',\n",
    "]\n",
    "for filename in filenames:\n",
    "    ! wget --no-verbose --timestamping --directory-prefix download {base_url}/{filename}\n",
    "\n",
    "! mv download/README download/README.txt"
   ]
  },
  {
   "cell_type": "markdown",
   "metadata": {},
   "source": [
    "## STITCH to DrugBank mapping utilities"
   ]
  },
  {
   "cell_type": "code",
   "execution_count": 6,
   "metadata": {},
   "outputs": [],
   "source": [
    "def stitch_flat_to_pubchem(cid):\n",
    "    assert cid.startswith('CID')\n",
    "    return int(cid[3:]) - 1e8\n",
    "\n",
    "def stitch_stereo_to_pubchem(cid):\n",
    "    assert cid.startswith('CID')\n",
    "    return int(cid[3:])"
   ]
  },
  {
   "cell_type": "code",
   "execution_count": 7,
   "metadata": {
    "collapsed": false,
    "jupyter": {
     "outputs_hidden": false
    }
   },
   "outputs": [],
   "source": [
    "# Read DrugBank terms\n",
    "url = 'https://raw.githubusercontent.com/dhimmel/drugbank/3e87872db5fca5ac427ce27464ab945c0ceb4ec6/data/drugbank.tsv'\n",
    "drugbank_df = pandas.read_table(url)[['drugbank_id', 'name']].rename(columns={'name': 'drugbank_name'})\n",
    "\n",
    "# Pubchem to DrugBank mapping\n",
    "url = 'https://raw.githubusercontent.com/dhimmel/drugbank/3e87872db5fca5ac427ce27464ab945c0ceb4ec6/data/mapping/pubchem.tsv'\n",
    "drugbank_map_df = pandas.read_table(url)"
   ]
  },
  {
   "cell_type": "markdown",
   "metadata": {},
   "source": [
    "## meddra_freq.tsv.gz"
   ]
  },
  {
   "cell_type": "code",
   "execution_count": 8,
   "metadata": {
    "collapsed": false,
    "jupyter": {
     "outputs_hidden": false
    }
   },
   "outputs": [
    {
     "data": {
      "text/html": [
       "<div>\n",
       "<style scoped>\n",
       "    .dataframe tbody tr th:only-of-type {\n",
       "        vertical-align: middle;\n",
       "    }\n",
       "\n",
       "    .dataframe tbody tr th {\n",
       "        vertical-align: top;\n",
       "    }\n",
       "\n",
       "    .dataframe thead th {\n",
       "        text-align: right;\n",
       "    }\n",
       "</style>\n",
       "<table border=\"1\" class=\"dataframe\">\n",
       "  <thead>\n",
       "    <tr style=\"text-align: right;\">\n",
       "      <th></th>\n",
       "      <th>stitch_id_flat</th>\n",
       "      <th>stitch_id_sterio</th>\n",
       "      <th>umls_cui_from_label</th>\n",
       "      <th>placebo</th>\n",
       "      <th>frequency</th>\n",
       "      <th>lower</th>\n",
       "      <th>upper</th>\n",
       "      <th>meddra_type</th>\n",
       "      <th>umls_cui_from_meddra</th>\n",
       "      <th>side_effect_name</th>\n",
       "    </tr>\n",
       "  </thead>\n",
       "  <tbody>\n",
       "    <tr>\n",
       "      <th>0</th>\n",
       "      <td>CID100000085</td>\n",
       "      <td>CID000010917</td>\n",
       "      <td>C0000737</td>\n",
       "      <td>NaN</td>\n",
       "      <td>21%</td>\n",
       "      <td>0.21</td>\n",
       "      <td>0.21</td>\n",
       "      <td>LLT</td>\n",
       "      <td>C0000737</td>\n",
       "      <td>Abdominal pain</td>\n",
       "    </tr>\n",
       "    <tr>\n",
       "      <th>1</th>\n",
       "      <td>CID100000085</td>\n",
       "      <td>CID000010917</td>\n",
       "      <td>C0000737</td>\n",
       "      <td>NaN</td>\n",
       "      <td>21%</td>\n",
       "      <td>0.21</td>\n",
       "      <td>0.21</td>\n",
       "      <td>PT</td>\n",
       "      <td>C0000737</td>\n",
       "      <td>Abdominal pain</td>\n",
       "    </tr>\n",
       "  </tbody>\n",
       "</table>\n",
       "</div>"
      ],
      "text/plain": [
       "  stitch_id_flat stitch_id_sterio umls_cui_from_label placebo frequency  \\\n",
       "0   CID100000085     CID000010917            C0000737     NaN       21%   \n",
       "1   CID100000085     CID000010917            C0000737     NaN       21%   \n",
       "\n",
       "   lower  upper meddra_type umls_cui_from_meddra side_effect_name  \n",
       "0   0.21   0.21         LLT             C0000737   Abdominal pain  \n",
       "1   0.21   0.21          PT             C0000737   Abdominal pain  "
      ]
     },
     "execution_count": 8,
     "metadata": {},
     "output_type": "execute_result"
    }
   ],
   "source": [
    "columns = [\n",
    "    'stitch_id_flat',\n",
    "    'stitch_id_sterio',\n",
    "    'umls_cui_from_label',\n",
    "    'placebo',\n",
    "    'frequency',\n",
    "    'lower',\n",
    "    'upper',\n",
    "    'meddra_type',\n",
    "    'umls_cui_from_meddra',\n",
    "    'side_effect_name',\n",
    "]\n",
    "freq_df = pandas.read_table('download/meddra_freq.tsv.gz', names=columns)\n",
    "freq_df.head(2)"
   ]
  },
  {
   "cell_type": "markdown",
   "metadata": {},
   "source": [
    "## meddra_all_se.tsv.gz"
   ]
  },
  {
   "cell_type": "code",
   "execution_count": 9,
   "metadata": {
    "collapsed": false,
    "jupyter": {
     "outputs_hidden": false
    }
   },
   "outputs": [
    {
     "data": {
      "text/html": [
       "<div>\n",
       "<style scoped>\n",
       "    .dataframe tbody tr th:only-of-type {\n",
       "        vertical-align: middle;\n",
       "    }\n",
       "\n",
       "    .dataframe tbody tr th {\n",
       "        vertical-align: top;\n",
       "    }\n",
       "\n",
       "    .dataframe thead th {\n",
       "        text-align: right;\n",
       "    }\n",
       "</style>\n",
       "<table border=\"1\" class=\"dataframe\">\n",
       "  <thead>\n",
       "    <tr style=\"text-align: right;\">\n",
       "      <th></th>\n",
       "      <th>drugbank_id</th>\n",
       "      <th>pubchem_id</th>\n",
       "      <th>stitch_id_flat</th>\n",
       "      <th>stitch_id_sterio</th>\n",
       "      <th>umls_cui_from_label</th>\n",
       "      <th>meddra_type</th>\n",
       "      <th>umls_cui_from_meddra</th>\n",
       "      <th>side_effect_name</th>\n",
       "    </tr>\n",
       "  </thead>\n",
       "  <tbody>\n",
       "    <tr>\n",
       "      <th>0</th>\n",
       "      <td>DB00014</td>\n",
       "      <td>47725</td>\n",
       "      <td>CID100047725</td>\n",
       "      <td>CID000047725</td>\n",
       "      <td>C0000737</td>\n",
       "      <td>LLT</td>\n",
       "      <td>C0000737</td>\n",
       "      <td>Abdominal pain</td>\n",
       "    </tr>\n",
       "    <tr>\n",
       "      <th>1</th>\n",
       "      <td>DB00014</td>\n",
       "      <td>47725</td>\n",
       "      <td>CID100047725</td>\n",
       "      <td>CID000047725</td>\n",
       "      <td>C0000737</td>\n",
       "      <td>PT</td>\n",
       "      <td>C0687713</td>\n",
       "      <td>Gastrointestinal pain</td>\n",
       "    </tr>\n",
       "  </tbody>\n",
       "</table>\n",
       "</div>"
      ],
      "text/plain": [
       "  drugbank_id  pubchem_id stitch_id_flat stitch_id_sterio umls_cui_from_label  \\\n",
       "0     DB00014       47725   CID100047725     CID000047725            C0000737   \n",
       "1     DB00014       47725   CID100047725     CID000047725            C0000737   \n",
       "\n",
       "  meddra_type umls_cui_from_meddra       side_effect_name  \n",
       "0         LLT             C0000737         Abdominal pain  \n",
       "1          PT             C0687713  Gastrointestinal pain  "
      ]
     },
     "execution_count": 9,
     "metadata": {},
     "output_type": "execute_result"
    }
   ],
   "source": [
    "columns = [\n",
    "    'stitch_id_flat',\n",
    "    'stitch_id_sterio',\n",
    "    'umls_cui_from_label',\n",
    "    'meddra_type',\n",
    "    'umls_cui_from_meddra',\n",
    "    'side_effect_name',\n",
    "]\n",
    "se_df = pandas.read_table('download/meddra_all_se.tsv.gz', names=columns)\n",
    "se_df['pubchem_id'] = se_df.stitch_id_sterio.map(stitch_stereo_to_pubchem)\n",
    "se_df = drugbank_map_df.merge(se_df)\n",
    "se_df.head(2)"
   ]
  },
  {
   "cell_type": "code",
   "execution_count": 10,
   "metadata": {
    "collapsed": false,
    "jupyter": {
     "outputs_hidden": false
    }
   },
   "outputs": [
    {
     "data": {
      "text/plain": [
       "153663"
      ]
     },
     "execution_count": 10,
     "metadata": {},
     "output_type": "execute_result"
    }
   ],
   "source": [
    "se_df = se_df[['drugbank_id', 'umls_cui_from_meddra', 'side_effect_name']]\n",
    "se_df = se_df.dropna()\n",
    "se_df = se_df.drop_duplicates(['drugbank_id', 'umls_cui_from_meddra'])\n",
    "se_df = drugbank_df.merge(se_df)\n",
    "se_df = se_df.sort_values(['drugbank_name', 'side_effect_name'])\n",
    "len(se_df)"
   ]
  },
  {
   "cell_type": "code",
   "execution_count": 11,
   "metadata": {
    "collapsed": false,
    "jupyter": {
     "outputs_hidden": false
    }
   },
   "outputs": [],
   "source": [
    "# Create a reference of side effect IDs and Names\n",
    "se_terms_df = se_df[['umls_cui_from_meddra', 'side_effect_name']].drop_duplicates()\n",
    "assert se_terms_df.side_effect_name.duplicated().sum() == 0\n",
    "se_terms_df = se_terms_df.sort_values('side_effect_name')\n",
    "se_terms_df.to_csv('data/side-effect-terms.tsv', sep='\\t', index=False)"
   ]
  },
  {
   "cell_type": "code",
   "execution_count": 12,
   "metadata": {
    "collapsed": false,
    "jupyter": {
     "outputs_hidden": false
    }
   },
   "outputs": [
    {
     "data": {
      "text/html": [
       "<div>\n",
       "<style scoped>\n",
       "    .dataframe tbody tr th:only-of-type {\n",
       "        vertical-align: middle;\n",
       "    }\n",
       "\n",
       "    .dataframe tbody tr th {\n",
       "        vertical-align: top;\n",
       "    }\n",
       "\n",
       "    .dataframe thead th {\n",
       "        text-align: right;\n",
       "    }\n",
       "</style>\n",
       "<table border=\"1\" class=\"dataframe\">\n",
       "  <thead>\n",
       "    <tr style=\"text-align: right;\">\n",
       "      <th></th>\n",
       "      <th>drugbank_id</th>\n",
       "      <th>drugbank_name</th>\n",
       "      <th>umls_cui_from_meddra</th>\n",
       "      <th>side_effect_name</th>\n",
       "    </tr>\n",
       "  </thead>\n",
       "  <tbody>\n",
       "    <tr>\n",
       "      <th>80494</th>\n",
       "      <td>DB00907</td>\n",
       "      <td>Cocaine</td>\n",
       "      <td>C0085631</td>\n",
       "      <td>Agitation</td>\n",
       "    </tr>\n",
       "    <tr>\n",
       "      <th>80495</th>\n",
       "      <td>DB00907</td>\n",
       "      <td>Cocaine</td>\n",
       "      <td>C0233571</td>\n",
       "      <td>Excitement</td>\n",
       "    </tr>\n",
       "    <tr>\n",
       "      <th>80486</th>\n",
       "      <td>DB00907</td>\n",
       "      <td>Cocaine</td>\n",
       "      <td>C0014549</td>\n",
       "      <td>Grand mal convulsion</td>\n",
       "    </tr>\n",
       "    <tr>\n",
       "      <th>80487</th>\n",
       "      <td>DB00907</td>\n",
       "      <td>Cocaine</td>\n",
       "      <td>C0020517</td>\n",
       "      <td>Hypersensitivity</td>\n",
       "    </tr>\n",
       "    <tr>\n",
       "      <th>80488</th>\n",
       "      <td>DB00907</td>\n",
       "      <td>Cocaine</td>\n",
       "      <td>C0026961</td>\n",
       "      <td>Mydriasis</td>\n",
       "    </tr>\n",
       "    <tr>\n",
       "      <th>80489</th>\n",
       "      <td>DB00907</td>\n",
       "      <td>Cocaine</td>\n",
       "      <td>C0027769</td>\n",
       "      <td>Nervousness</td>\n",
       "    </tr>\n",
       "    <tr>\n",
       "      <th>80496</th>\n",
       "      <td>DB00907</td>\n",
       "      <td>Cocaine</td>\n",
       "      <td>C1145670</td>\n",
       "      <td>Respiratory failure</td>\n",
       "    </tr>\n",
       "    <tr>\n",
       "      <th>80497</th>\n",
       "      <td>DB00907</td>\n",
       "      <td>Cocaine</td>\n",
       "      <td>C1325847</td>\n",
       "      <td>Sensitisation</td>\n",
       "    </tr>\n",
       "    <tr>\n",
       "      <th>80490</th>\n",
       "      <td>DB00907</td>\n",
       "      <td>Cocaine</td>\n",
       "      <td>C0233494</td>\n",
       "      <td>Tension</td>\n",
       "    </tr>\n",
       "    <tr>\n",
       "      <th>80491</th>\n",
       "      <td>DB00907</td>\n",
       "      <td>Cocaine</td>\n",
       "      <td>C0040822</td>\n",
       "      <td>Tremor</td>\n",
       "    </tr>\n",
       "    <tr>\n",
       "      <th>80492</th>\n",
       "      <td>DB00907</td>\n",
       "      <td>Cocaine</td>\n",
       "      <td>C0041582</td>\n",
       "      <td>Ulcer</td>\n",
       "    </tr>\n",
       "    <tr>\n",
       "      <th>80493</th>\n",
       "      <td>DB00907</td>\n",
       "      <td>Cocaine</td>\n",
       "      <td>C0042963</td>\n",
       "      <td>Vomiting</td>\n",
       "    </tr>\n",
       "  </tbody>\n",
       "</table>\n",
       "</div>"
      ],
      "text/plain": [
       "      drugbank_id drugbank_name umls_cui_from_meddra      side_effect_name\n",
       "80494     DB00907       Cocaine             C0085631             Agitation\n",
       "80495     DB00907       Cocaine             C0233571            Excitement\n",
       "80486     DB00907       Cocaine             C0014549  Grand mal convulsion\n",
       "80487     DB00907       Cocaine             C0020517      Hypersensitivity\n",
       "80488     DB00907       Cocaine             C0026961             Mydriasis\n",
       "80489     DB00907       Cocaine             C0027769           Nervousness\n",
       "80496     DB00907       Cocaine             C1145670   Respiratory failure\n",
       "80497     DB00907       Cocaine             C1325847         Sensitisation\n",
       "80490     DB00907       Cocaine             C0233494               Tension\n",
       "80491     DB00907       Cocaine             C0040822                Tremor\n",
       "80492     DB00907       Cocaine             C0041582                 Ulcer\n",
       "80493     DB00907       Cocaine             C0042963              Vomiting"
      ]
     },
     "execution_count": 12,
     "metadata": {},
     "output_type": "execute_result"
    }
   ],
   "source": [
    "# Side effects of cocaine\n",
    "se_df.query(\"drugbank_id == 'DB00907'\")"
   ]
  },
  {
   "cell_type": "code",
   "execution_count": 13,
   "metadata": {
    "collapsed": false,
    "jupyter": {
     "outputs_hidden": false
    }
   },
   "outputs": [
    {
     "data": {
      "text/plain": [
       "1223"
      ]
     },
     "execution_count": 13,
     "metadata": {},
     "output_type": "execute_result"
    }
   ],
   "source": [
    "# Number of drugbank drugs\n",
    "se_df.drugbank_id.nunique()"
   ]
  },
  {
   "cell_type": "code",
   "execution_count": 14,
   "metadata": {
    "collapsed": false,
    "jupyter": {
     "outputs_hidden": false
    }
   },
   "outputs": [
    {
     "data": {
      "text/plain": [
       "5734"
      ]
     },
     "execution_count": 14,
     "metadata": {},
     "output_type": "execute_result"
    }
   ],
   "source": [
    "# Number of UMLS side effects\n",
    "se_df.umls_cui_from_meddra.nunique()"
   ]
  },
  {
   "cell_type": "code",
   "execution_count": 15,
   "metadata": {},
   "outputs": [],
   "source": [
    "# Save side effects\n",
    "se_df.to_csv('data/side-effects.tsv', sep='\\t', index=False)"
   ]
  },
  {
   "cell_type": "markdown",
   "metadata": {},
   "source": [
    "## meddra_all_indications.tsv.gz"
   ]
  },
  {
   "cell_type": "code",
   "execution_count": 16,
   "metadata": {
    "collapsed": false,
    "jupyter": {
     "outputs_hidden": false
    }
   },
   "outputs": [],
   "source": [
    "columns = [\n",
    "    'stitch_id_flat',\n",
    "    'umls_cui_from_label',\n",
    "    'method',\n",
    "    'concept_name',\n",
    "    'meddra_type',\n",
    "    'umls_cui_from_meddra',\n",
    "    'meddra_name',\n",
    "]\n",
    "indication_df = pandas.read_table('download/meddra_all_indications.tsv.gz', names=columns)\n",
    "indication_df['pubchem_id'] = indication_df.stitch_id_flat.map(stitch_flat_to_pubchem)"
   ]
  },
  {
   "cell_type": "code",
   "execution_count": 17,
   "metadata": {
    "collapsed": false,
    "jupyter": {
     "outputs_hidden": false
    }
   },
   "outputs": [
    {
     "data": {
      "text/html": [
       "<div>\n",
       "<style scoped>\n",
       "    .dataframe tbody tr th:only-of-type {\n",
       "        vertical-align: middle;\n",
       "    }\n",
       "\n",
       "    .dataframe tbody tr th {\n",
       "        vertical-align: top;\n",
       "    }\n",
       "\n",
       "    .dataframe thead th {\n",
       "        text-align: right;\n",
       "    }\n",
       "</style>\n",
       "<table border=\"1\" class=\"dataframe\">\n",
       "  <thead>\n",
       "    <tr style=\"text-align: right;\">\n",
       "      <th></th>\n",
       "      <th>drugbank_id</th>\n",
       "      <th>drugbank_name</th>\n",
       "      <th>pubchem_id</th>\n",
       "      <th>stitch_id_flat</th>\n",
       "      <th>umls_cui_from_label</th>\n",
       "      <th>method</th>\n",
       "      <th>concept_name</th>\n",
       "      <th>meddra_type</th>\n",
       "      <th>umls_cui_from_meddra</th>\n",
       "      <th>meddra_name</th>\n",
       "    </tr>\n",
       "  </thead>\n",
       "  <tbody>\n",
       "    <tr>\n",
       "      <th>1</th>\n",
       "      <td>DB00014</td>\n",
       "      <td>Goserelin</td>\n",
       "      <td>47725</td>\n",
       "      <td>CID100047725</td>\n",
       "      <td>C0002871</td>\n",
       "      <td>text_mention</td>\n",
       "      <td>Anemia</td>\n",
       "      <td>PT</td>\n",
       "      <td>C0002871</td>\n",
       "      <td>Anaemia</td>\n",
       "    </tr>\n",
       "    <tr>\n",
       "      <th>3</th>\n",
       "      <td>DB00014</td>\n",
       "      <td>Goserelin</td>\n",
       "      <td>47725</td>\n",
       "      <td>CID100047725</td>\n",
       "      <td>C0006142</td>\n",
       "      <td>NLP_indication</td>\n",
       "      <td>Malignant neoplasm of breast</td>\n",
       "      <td>PT</td>\n",
       "      <td>C0006142</td>\n",
       "      <td>Breast cancer</td>\n",
       "    </tr>\n",
       "  </tbody>\n",
       "</table>\n",
       "</div>"
      ],
      "text/plain": [
       "  drugbank_id drugbank_name  pubchem_id stitch_id_flat umls_cui_from_label  \\\n",
       "1     DB00014     Goserelin       47725   CID100047725            C0002871   \n",
       "3     DB00014     Goserelin       47725   CID100047725            C0006142   \n",
       "\n",
       "           method                  concept_name meddra_type  \\\n",
       "1    text_mention                        Anemia          PT   \n",
       "3  NLP_indication  Malignant neoplasm of breast          PT   \n",
       "\n",
       "  umls_cui_from_meddra    meddra_name  \n",
       "1             C0002871        Anaemia  \n",
       "3             C0006142  Breast cancer  "
      ]
     },
     "execution_count": 17,
     "metadata": {},
     "output_type": "execute_result"
    }
   ],
   "source": [
    "indication_df = drugbank_df.merge(drugbank_map_df.merge(indication_df))\n",
    "indication_df = indication_df.query(\"meddra_type == 'PT'\")\n",
    "indication_df.head(2)"
   ]
  },
  {
   "cell_type": "code",
   "execution_count": 18,
   "metadata": {
    "collapsed": false,
    "jupyter": {
     "outputs_hidden": false
    }
   },
   "outputs": [
    {
     "data": {
      "text/plain": [
       "['Baclofen',\n",
       " 'Betamethasone',\n",
       " 'Carbamazepine',\n",
       " 'Triamcinolone',\n",
       " 'Prednisone',\n",
       " 'Tizanidine',\n",
       " 'Hydrocortisone',\n",
       " 'Prednisolone',\n",
       " 'Methylprednisolone',\n",
       " 'Mitoxantrone',\n",
       " 'Dantrolene',\n",
       " 'Dexamethasone',\n",
       " 'FTY 720',\n",
       " 'Dalfampridine',\n",
       " '(11alpha,14beta)-11,17,21-trihydroxypregn-4-ene-3,20-dione',\n",
       " 'Fingolimod']"
      ]
     },
     "execution_count": 18,
     "metadata": {},
     "output_type": "execute_result"
    }
   ],
   "source": [
    "# Multiple Sclerosis indications\n",
    "indication_df.query(\"umls_cui_from_meddra == 'C0026769'\").drugbank_name.tolist()"
   ]
  },
  {
   "cell_type": "code",
   "execution_count": 19,
   "metadata": {
    "collapsed": false,
    "jupyter": {
     "outputs_hidden": false
    }
   },
   "outputs": [],
   "source": [
    "# Save indications\n",
    "indication_df.to_csv('data/indications.tsv', sep='\\t', index=False)"
   ]
  }
 ],
 "metadata": {
  "kernelspec": {
   "display_name": "Python 3 (ipykernel)",
   "language": "python",
   "name": "python3"
  },
  "language_info": {
   "codemirror_mode": {
    "name": "ipython",
    "version": 3
   },
   "file_extension": ".py",
   "mimetype": "text/x-python",
   "name": "python",
   "nbconvert_exporter": "python",
   "pygments_lexer": "ipython3",
   "version": "3.12.3"
  }
 },
 "nbformat": 4,
 "nbformat_minor": 4
}
